{
 "cells": [
  {
   "cell_type": "markdown",
   "metadata": {},
   "source": [
    "# Jupyter Notebook Orientation\n",
    "https://jupyter.org/\n",
    "\n",
    "* Jupyter is one of many development environemtns\n",
    "* Can work with both R and python\n",
    "* visual emphasis\n",
    "* great for prototyping and data exploration"
   ]
  },
  {
   "cell_type": "code",
   "execution_count": null,
   "metadata": {},
   "outputs": [],
   "source": [
    "# Run the cell by hitting shift/return\n",
    "'this is a text string'"
   ]
  },
  {
   "cell_type": "code",
   "execution_count": null,
   "metadata": {},
   "outputs": [],
   "source": [
    "# this is a comment - note that many of the cells below are commented out until we are ready to use\n",
    "# to uncomment, type ctl-/"
   ]
  },
  {
   "cell_type": "code",
   "execution_count": null,
   "metadata": {},
   "outputs": [],
   "source": [
    "# Assign a variable\n",
    "b = 10"
   ]
  },
  {
   "cell_type": "code",
   "execution_count": null,
   "metadata": {},
   "outputs": [],
   "source": [
    "# Lets see what value b is (no need to print it!)\n",
    "b"
   ]
  },
  {
   "cell_type": "code",
   "execution_count": null,
   "metadata": {},
   "outputs": [],
   "source": [
    " #python is a dynamically-typed language, meaning that it can change data types (e.g., from integer to string) without needing to explicitly declare\n",
    "b = 'ten' "
   ]
  },
  {
   "cell_type": "code",
   "execution_count": null,
   "metadata": {},
   "outputs": [],
   "source": [
    "# Example error (python is strongly typed - can't add strings and ints)\n",
    "#b + 1\n",
    "#b + str(1)"
   ]
  },
  {
   "cell_type": "code",
   "execution_count": null,
   "metadata": {
    "scrolled": true
   },
   "outputs": [],
   "source": [
    "#Get methods/properties by typing . and hitting TAB these options will be different depending on object type\n",
    "b.upper()"
   ]
  },
  {
   "cell_type": "code",
   "execution_count": null,
   "metadata": {},
   "outputs": [],
   "source": [
    "#Get documentation by hitting  shiftTAB depending on where your cursor is will give different documentation\n",
    "b.upper()"
   ]
  },
  {
   "cell_type": "markdown",
   "metadata": {},
   "source": [
    "# Pandas"
   ]
  },
  {
   "cell_type": "markdown",
   "metadata": {},
   "source": [
    "What is pandas?\n",
    "https://pandas.pydata.org/index.html\n",
    "\n",
    "* Data analysis and manipulation package\n",
    "* Comparable to R data frames (but faster and more powerful)\n",
    "* Blends power of lists and dictionaries"
   ]
  },
  {
   "cell_type": "markdown",
   "metadata": {},
   "source": [
    "### Importing the Pandas Package"
   ]
  },
  {
   "cell_type": "code",
   "execution_count": null,
   "metadata": {},
   "outputs": [],
   "source": [
    "# Beyond the standard library (https://docs.python.org/3/library/), you will need to import packages\n",
    "# pd is the standard alias for pandas, but not mandatory\n",
    "import pandas as pd"
   ]
  },
  {
   "cell_type": "markdown",
   "metadata": {},
   "source": [
    "### Reading Data"
   ]
  },
  {
   "cell_type": "code",
   "execution_count": null,
   "metadata": {},
   "outputs": [],
   "source": [
    "# Below are a couple of ways you could read data - either from files or web services\n",
    "# pd.read_csv(r'C:\\TEMP\\DuckObservations.csv')  #Backslash is a reserved character in python, so the 'r' says treat is as a raw string\n",
    "# pd.read_excel('C:\\\\TEMP\\\\demo.xlsx', sheet_name='DuckObservations')  #You can also use double backslash - Note that reading Excel required xlrd package\n",
    "# pd.read_json('https://systems.fws.gov/cmt/getOrgs.do?region=1')    # CMT OrgCodes for Region 1"
   ]
  },
  {
   "cell_type": "code",
   "execution_count": null,
   "metadata": {},
   "outputs": [],
   "source": []
  },
  {
   "cell_type": "markdown",
   "metadata": {},
   "source": [
    "## Pandas Data Frames"
   ]
  },
  {
   "cell_type": "code",
   "execution_count": null,
   "metadata": {},
   "outputs": [],
   "source": [
    "# Two dimensional container of one or more series (i.e., rows) (like a spreadsheet)\n",
    "# Two-dimensional size-mutable, potentially heterogeneous tabular data structure with labeled axes (rows and columns). \n",
    "# The Data Frame is primary pandas data structure  - comparable to the data frame in R\n",
    "\n",
    "# USFWS CMT Web Service (https://systems.fws.gov/cmt/)\n",
    "\n",
    "# Call the web service with Pandas\n",
    "df = pd.read_json('https://systems.fws.gov/cmt/getOrgs.do?region=1')      #Assign the data frome to a varialbe named df"
   ]
  },
  {
   "cell_type": "markdown",
   "metadata": {},
   "source": [
    "### Understanding your data"
   ]
  },
  {
   "cell_type": "code",
   "execution_count": null,
   "metadata": {},
   "outputs": [],
   "source": [
    "# Get Column Info\n",
    "#df.columns"
   ]
  },
  {
   "cell_type": "code",
   "execution_count": null,
   "metadata": {},
   "outputs": [],
   "source": [
    "# Get first and last records\n",
    "#df.head(2)\n",
    "#df.tail(10)"
   ]
  },
  {
   "cell_type": "code",
   "execution_count": null,
   "metadata": {},
   "outputs": [],
   "source": [
    "# Get descriptive statistics (only on numeric fieds)\n",
    "#df.describe()"
   ]
  },
  {
   "cell_type": "code",
   "execution_count": null,
   "metadata": {},
   "outputs": [],
   "source": [
    "# Get column info including # and data types\n",
    "#df.info()"
   ]
  },
  {
   "cell_type": "code",
   "execution_count": null,
   "metadata": {},
   "outputs": [],
   "source": [
    "# Other ways to describe\n",
    "#df.dtypes\n",
    "#print(df)"
   ]
  },
  {
   "cell_type": "code",
   "execution_count": null,
   "metadata": {},
   "outputs": [],
   "source": [
    "# Data Frames are indexable like a list\n",
    "\n",
    "#df.iloc[0]   #integer locate - get first row\n",
    "#df.loc[10]  #get 11th row"
   ]
  },
  {
   "cell_type": "code",
   "execution_count": null,
   "metadata": {},
   "outputs": [],
   "source": [
    "# The columns of the Data Frames can also be accessed like a dictionary\n",
    "\n",
    "#df['orgName']    #You can always put the names in single quotes and brackets\n",
    "#df.orgName       #If the name doesn't have a space, you can just use dot"
   ]
  },
  {
   "cell_type": "code",
   "execution_count": null,
   "metadata": {},
   "outputs": [],
   "source": [
    "# Data Frames can be subsetted/queried\n",
    "#df.state == 'OREGON'                                    #we can set up a filter consisting of True/False\n",
    "#StateFilter = df.state == 'OREGON'                      #..and name the filter StateFilter\n",
    "\n",
    "#df[StateFilter]                                         #Use the filter on the dataframe\n",
    "#df[StateFilter].orgName                                 #we can also get just a single columns                   \n",
    "#df[StateFilter][['orgType', 'orgTypeAcro', 'program']]  #....or a few columns\n",
    "\n",
    "\n",
    "# OrgFilter = df.orgType == 'NATIONAL WILDLIFE REFUGE'  #Create a second filter\n",
    "# df[StateFilter & OrgFilter]                           #Use both filter"
   ]
  },
  {
   "cell_type": "markdown",
   "metadata": {},
   "source": [
    "### Basic Manipulation"
   ]
  },
  {
   "cell_type": "code",
   "execution_count": null,
   "metadata": {},
   "outputs": [],
   "source": [
    "# Adding New columns\n",
    "#df.columns\n",
    "#df['StateAndAbbrev'] = ''\n",
    "#df.columns"
   ]
  },
  {
   "cell_type": "code",
   "execution_count": null,
   "metadata": {
    "scrolled": false
   },
   "outputs": [],
   "source": [
    "# Combining columns  - This is only possible if the columns are of the same data type\n",
    "#df.StateAndAbbrev =  df.state + ' (' + df.stateAbbr + ')'\n",
    "#df.StateAndAbbrev"
   ]
  },
  {
   "cell_type": "code",
   "execution_count": null,
   "metadata": {},
   "outputs": [],
   "source": [
    "# String manipulations\n",
    "#df['state'].str.lower()\n",
    "#df['state'].str.len()"
   ]
  },
  {
   "cell_type": "code",
   "execution_count": null,
   "metadata": {},
   "outputs": [],
   "source": [
    "# Grouping\n",
    "#df.groupby('state').count()"
   ]
  },
  {
   "cell_type": "markdown",
   "metadata": {
    "collapsed": true
   },
   "source": [
    "### Plotting"
   ]
  },
  {
   "cell_type": "code",
   "execution_count": null,
   "metadata": {
    "scrolled": true
   },
   "outputs": [],
   "source": [
    "# Plotting in pandas can be an entire class on its own. But there is some simple plotting built into pandas.\n",
    "# cnt = df.groupby('orgType').count()\n",
    "# g = cnt.orgCode.plot(kind='bar')\n",
    "\n",
    "# ...to export plot as image\n",
    "#import matplotlib.pyplot as plt            #In this case, you will need to import the matplotlib, the plotting package\n",
    "#plt.savefig('OrgCount1.png', bbox_inches='tight', dpi=600)"
   ]
  },
  {
   "cell_type": "markdown",
   "metadata": {},
   "source": [
    "### Combining Data Frames"
   ]
  },
  {
   "cell_type": "code",
   "execution_count": null,
   "metadata": {
    "scrolled": true
   },
   "outputs": [],
   "source": [
    "# Let's get the CMT data for region 2\n",
    "#df2 = pd.read_json('https://systems.fws.gov/cmt/getOrgs.do?region=2') \n",
    "#pd.concat([df, df2])     #add together two or more data frames using pd.concat - you can add as many as you want in a list\n",
    "\n",
    "# Alternatively, you could use the append method from the data frame\n",
    "#df.append(df2)"
   ]
  },
  {
   "cell_type": "markdown",
   "metadata": {},
   "source": [
    "### Exporting Data"
   ]
  },
  {
   "cell_type": "code",
   "execution_count": null,
   "metadata": {},
   "outputs": [],
   "source": [
    "# Pandas has many export options, including csv and excel \n",
    "#df.to_csv('cmt.csv')    # to csv\n",
    "#df.to_excel('cmt.xls')  # to excel - requires that you install xlwt package"
   ]
  },
  {
   "cell_type": "code",
   "execution_count": null,
   "metadata": {},
   "outputs": [],
   "source": []
  },
  {
   "cell_type": "markdown",
   "metadata": {},
   "source": [
    "# Challenge"
   ]
  },
  {
   "cell_type": "markdown",
   "metadata": {},
   "source": [
    "1. Add a column with the state name changed to title case\n",
    "2. Plot the count of refuges by state \n",
    "3. Build the entire CMT for regions 1-8 (hint: pd.concat or df.append)"
   ]
  },
  {
   "cell_type": "code",
   "execution_count": null,
   "metadata": {},
   "outputs": [],
   "source": []
  },
  {
   "cell_type": "markdown",
   "metadata": {},
   "source": [
    "# Extras"
   ]
  },
  {
   "cell_type": "code",
   "execution_count": null,
   "metadata": {},
   "outputs": [],
   "source": [
    "#other packages that you might be interested in as you get more advanced\n",
    "# import numpy as np      #pandas uses Numpy under the hood. In most cases, you won't need to know or care about it, except when you deal with NULLs (i.e., NaN)\n",
    "# import matplotlib as mp #The underlying plotting package is known as MatPlotLib (see https://matplotlib.org/) and can be used independently of Pandas\n",
    "# import geopandas as gp  #Geospandas lets you work with geospatial data (GDAL under the hood)\n",
    "# import scipy            # a plethora of simple and advanved statistical routines all in one package"
   ]
  }
 ],
 "metadata": {
  "kernelspec": {
   "display_name": "Python 3",
   "language": "python",
   "name": "python3"
  },
  "language_info": {
   "codemirror_mode": {
    "name": "ipython",
    "version": 3
   },
   "file_extension": ".py",
   "mimetype": "text/x-python",
   "name": "python",
   "nbconvert_exporter": "python",
   "pygments_lexer": "ipython3",
   "version": "3.6.10"
  }
 },
 "nbformat": 4,
 "nbformat_minor": 2
}
