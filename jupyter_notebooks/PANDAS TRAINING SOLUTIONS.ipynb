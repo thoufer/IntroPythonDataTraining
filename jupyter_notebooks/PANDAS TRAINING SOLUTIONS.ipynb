{
 "cells": [
  {
   "cell_type": "code",
   "execution_count": null,
   "metadata": {},
   "outputs": [],
   "source": [
    "# we will need to re-import pandas for this new workbook since they are independent of each other\n",
    "import pandas as pd"
   ]
  },
  {
   "cell_type": "code",
   "execution_count": null,
   "metadata": {},
   "outputs": [],
   "source": [
    "# get region 1 data and assign to the df variable\n",
    "df = pd.read_json('https://systems.fws.gov/cmt/getOrgs.do?region=1')    # CMT OrgCodes for Region 1"
   ]
  },
  {
   "cell_type": "markdown",
   "metadata": {},
   "source": [
    "# 1. Add a column with the state name changed to title case"
   ]
  },
  {
   "cell_type": "code",
   "execution_count": null,
   "metadata": {},
   "outputs": [],
   "source": [
    "#Simple solution\n",
    "df['StateUpper'] = df.state.str.title()"
   ]
  },
  {
   "cell_type": "code",
   "execution_count": null,
   "metadata": {},
   "outputs": [],
   "source": [
    "#lamda functions are simple embedded functions\n",
    "df['StateUpper'] = df.state.apply(lambda x: x.title())"
   ]
  },
  {
   "cell_type": "code",
   "execution_count": null,
   "metadata": {},
   "outputs": [],
   "source": [
    "# you could create a function and then apply it to the columne of the date frame\n",
    "def to_title(x):\n",
    "    return x.title()\n",
    "df['StateUpper'] = df.state.apply(to_title)"
   ]
  },
  {
   "cell_type": "code",
   "execution_count": null,
   "metadata": {},
   "outputs": [],
   "source": [
    "# the most advanced is to create a function which accepts an entire series. Doing so would allow you to work\n",
    "# with multiple fields simultaneously (although this is not done in this example)\n",
    "def to_title(x):\n",
    "    return x.state.title()\n",
    "\n",
    "df['StateUpper'] = df.apply(to_title, axis=1)  #apply the function. Your axis argument tells pandas to apply the function to each row (as opposed to each column)"
   ]
  },
  {
   "cell_type": "code",
   "execution_count": null,
   "metadata": {},
   "outputs": [],
   "source": [
    "df.StateUpper"
   ]
  },
  {
   "cell_type": "markdown",
   "metadata": {},
   "source": [
    "# 2. Plot the count of refuges by state for region 1"
   ]
  },
  {
   "cell_type": "code",
   "execution_count": null,
   "metadata": {},
   "outputs": [],
   "source": [
    "#You could do this as separate steps\n",
    "gp = df.groupby('state').count()  #Assign to gp count by state\n",
    "gp.orgCode.plot()                 #Now plot it \n",
    "gp.orgCode.plot(kind='bar')       #Change the line graph to a bar graph"
   ]
  },
  {
   "cell_type": "code",
   "execution_count": null,
   "metadata": {},
   "outputs": [],
   "source": [
    "# all steps could be completed at once by chaining\n",
    "df.groupby('state').count().orgCode.plot(kind='bar')"
   ]
  },
  {
   "cell_type": "markdown",
   "metadata": {},
   "source": [
    "# 3. Combine all regions"
   ]
  },
  {
   "cell_type": "code",
   "execution_count": null,
   "metadata": {},
   "outputs": [],
   "source": [
    "#We could be really simple and just pull each region by iteself, export to spreadsheet and then manually combine\n",
    "df1 = pd.read_json('https://systems.fws.gov/cmt/getOrgs.do?region=1')\n",
    "df1.to_exce('df1.xls')\n",
    "\n",
    "df2 = pd.read_json('https://systems.fws.gov/cmt/getOrgs.do?region=2')\n",
    "df2.to_exce('df2.xls')\n",
    "\n",
    "df3 = pd.read_json('https://systems.fws.gov/cmt/getOrgs.do?region=3')\n",
    "df3.to_exce('df3.xls')\n",
    "#while it does work, it is time consuming and manual"
   ]
  },
  {
   "cell_type": "code",
   "execution_count": null,
   "metadata": {},
   "outputs": [],
   "source": [
    "#Create a simple loop (using concat)\n",
    "cmt_all = pd.DataFrame()         #create an empty data frame\n",
    "for x in [1,2,3,4,5,6,7,8]:      #Iterate over a list\n",
    "    df = pd.read_json('https://systems.fws.gov/cmt/getOrgs.do?region=' + str(x))  #python is strongly typed, meaning you can't add strings and numbers together\n",
    "    cmt_all = pd.concat([cmt_all, df]) \n",
    "cmt_all                          #show the contents of the data frame"
   ]
  },
  {
   "cell_type": "code",
   "execution_count": null,
   "metadata": {},
   "outputs": [],
   "source": [
    "#Create a simple loop (using append)\n",
    "cmt_all = pd.DataFrame()\n",
    "for x in range(1, 9):            #range creates an iterable list object....try --> list(range(1,9))\n",
    "    df = pd.read_json('https://systems.fws.gov/cmt/getOrgs.do?region=' + str(x))  #python is strongly typed, meaning you can't add strings and numbers together\n",
    "    cmt_all = cmt_all.append(df)   #you can append another data frame, series or even a list of data frames (very flexible)\n",
    "cmt_all"
   ]
  },
  {
   "cell_type": "code",
   "execution_count": null,
   "metadata": {},
   "outputs": [],
   "source": []
  },
  {
   "cell_type": "code",
   "execution_count": null,
   "metadata": {},
   "outputs": [],
   "source": []
  }
 ],
 "metadata": {
  "kernelspec": {
   "display_name": "Python 3",
   "language": "python",
   "name": "python3"
  },
  "language_info": {
   "codemirror_mode": {
    "name": "ipython",
    "version": 3
   },
   "file_extension": ".py",
   "mimetype": "text/x-python",
   "name": "python",
   "nbconvert_exporter": "python",
   "pygments_lexer": "ipython3",
   "version": "3.6.10"
  }
 },
 "nbformat": 4,
 "nbformat_minor": 4
}
